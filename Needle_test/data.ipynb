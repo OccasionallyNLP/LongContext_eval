{
 "cells": [
  {
   "cell_type": "code",
   "execution_count": 3,
   "id": "03c7b155-848d-4d14-90ea-8829dda33571",
   "metadata": {},
   "outputs": [],
   "source": [
    "import json\n",
    "with open('./prompts/Huggingface_len_60000_depth_9000_prompts.json','r') as f:\n",
    "    d = json.load(f)"
   ]
  },
  {
   "cell_type": "code",
   "execution_count": 9,
   "id": "9c914a7a-f06a-4f6f-b063-418969d9e8a0",
   "metadata": {},
   "outputs": [
    {
     "name": "stderr",
     "output_type": "stream",
     "text": [
      "C:\\Users\\user\\Ok\\long_context\\Lib\\site-packages\\tqdm\\auto.py:21: TqdmWarning: IProgress not found. Please update jupyter and ipywidgets. See https://ipywidgets.readthedocs.io/en/stable/user_install.html\n",
      "  from .autonotebook import tqdm as notebook_tqdm\n"
     ]
    }
   ],
   "source": [
    "from transformers import AutoTokenizer"
   ]
  },
  {
   "cell_type": "code",
   "execution_count": null,
   "id": "fee65bee-480a-49de-81d0-e6d2e68bbee0",
   "metadata": {},
   "outputs": [],
   "source": []
  },
  {
   "cell_type": "code",
   "execution_count": 10,
   "id": "900c2fb3-1e50-4427-88a7-a5fd8ae167a6",
   "metadata": {},
   "outputs": [],
   "source": [
    "tokenizer = AutoTokenizer.from_pretrained('Qwen/Qwen2.5-0.5B')"
   ]
  },
  {
   "cell_type": "code",
   "execution_count": 12,
   "id": "d4a2ca13-57c0-4d33-b27f-131f5328885f",
   "metadata": {},
   "outputs": [],
   "source": [
    "x=tokenizer(d[1]['content']).input_ids"
   ]
  },
  {
   "cell_type": "code",
   "execution_count": 14,
   "id": "5952611f-4ba7-4dec-a86b-006616ed612c",
   "metadata": {},
   "outputs": [
    {
     "data": {
      "text/plain": [
       "59828"
      ]
     },
     "execution_count": 14,
     "metadata": {},
     "output_type": "execute_result"
    }
   ],
   "source": []
  },
  {
   "cell_type": "code",
   "execution_count": null,
   "id": "3e25e18f-1cad-4235-a46a-00336389324e",
   "metadata": {},
   "outputs": [],
   "source": [
    "\n"
   ]
  }
 ],
 "metadata": {
  "kernelspec": {
   "display_name": "Python 3 (ipykernel)",
   "language": "python",
   "name": "python3"
  },
  "language_info": {
   "codemirror_mode": {
    "name": "ipython",
    "version": 3
   },
   "file_extension": ".py",
   "mimetype": "text/x-python",
   "name": "python",
   "nbconvert_exporter": "python",
   "pygments_lexer": "ipython3",
   "version": "3.13.2"
  }
 },
 "nbformat": 4,
 "nbformat_minor": 5
}
